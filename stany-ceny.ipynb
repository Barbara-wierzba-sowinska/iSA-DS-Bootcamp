{
 "cells": [
  {
   "attachments": {},
   "cell_type": "markdown",
   "metadata": {},
   "source": [
    "Import bibliotekii, wczytanie plików.\n",
    "Dodanie kolumny stanu."
   ]
  },
  {
   "cell_type": "code",
   "execution_count": null,
   "metadata": {},
   "outputs": [],
   "source": [
    "import pandas as pd\n",
    "restaurants = pd.read_csv('restaurants.csv')\n",
    "menu = pd.read_csv('restaurant-menus.csv')\n",
    "merged = restaurants.merge(menu, how='left', left_on='id', right_on='restaurant_id' , sort=False, suffixes=('_rest', '_menu'))\n",
    "restaurants['state'] = [str(a).replace(str(b), '').strip()[-3:-1] for a, b in zip(restaurants['full_address'], restaurants['zip_code'])]\n",
    "restaurants.loc[restaurants['zip_code'].str.len() == 2, ['zip_code']] = '00000'\n",
    "restaurants.loc[restaurants['zip_code'].isin(['75070']), ['state']] = 'TX'\n",
    "restaurants.loc[restaurants['state'].isin([', ','an','U']),['state']] = 'PR'\n",
    "restaurants['state'].unique()\n",
    "restaurants[restaurants['state']=='']\n"
   ]
  },
  {
   "attachments": {},
   "cell_type": "markdown",
   "metadata": {},
   "source": [
    "Wyodrębnienie danych dla poszczególnych kategorii cenowych."
   ]
  },
  {
   "cell_type": "code",
   "execution_count": null,
   "metadata": {},
   "outputs": [],
   "source": [
    "cheap = restaurants[restaurants['price_range']=='$']\n",
    "moderate = restaurants[restaurants['price_range']=='$$']\n",
    "expensive = restaurants[restaurants['price_range']=='$$$']\n",
    "superexpensive = restaurants[restaurants['price_range']=='$$$$']"
   ]
  },
  {
   "attachments": {},
   "cell_type": "markdown",
   "metadata": {},
   "source": [
    "Ile jest tanich restauracji w poszczególny stanach?"
   ]
  },
  {
   "cell_type": "code",
   "execution_count": null,
   "metadata": {},
   "outputs": [],
   "source": [
    "cheapsy= moderate.groupby('state', as_index=False)['price_range'].count()\n",
    "cheapsy.rename(columns = {'price_range': 'cheap #'}, inplace=True)\n",
    "cheapsy"
   ]
  },
  {
   "attachments": {},
   "cell_type": "markdown",
   "metadata": {},
   "source": [
    "Ile jest restauracji o umiarkowanych cenach?"
   ]
  },
  {
   "cell_type": "code",
   "execution_count": null,
   "metadata": {},
   "outputs": [],
   "source": [
    "moderasy = moderate.groupby('state', as_index=False)['price_range'].count()\n",
    "moderasy.rename(columns = {'price_range': 'moderate #'}, inplace=True)\n",
    "moderasy"
   ]
  },
  {
   "attachments": {},
   "cell_type": "markdown",
   "metadata": {},
   "source": [
    "Ile jest drogich restauracji?"
   ]
  },
  {
   "cell_type": "code",
   "execution_count": null,
   "metadata": {},
   "outputs": [],
   "source": [
    "expensy = expensive.groupby('state', as_index=False)['price_range'].count()\n",
    "expensy.rename(columns = {'price_range': 'expensive #'}, inplace=True)\n",
    "expensy"
   ]
  },
  {
   "attachments": {},
   "cell_type": "markdown",
   "metadata": {},
   "source": [
    "Ile jest BARDZO drogich restauracji?"
   ]
  },
  {
   "cell_type": "code",
   "execution_count": null,
   "metadata": {},
   "outputs": [],
   "source": [
    "superesy = superexpensive.groupby('state', as_index=False)['price_range'].count()\n",
    "superesy.rename(columns = {'price_range': 'superexpensive #'}, inplace=True)\n",
    "\n",
    "superesy"
   ]
  },
  {
   "attachments": {},
   "cell_type": "markdown",
   "metadata": {},
   "source": [
    "Połączenie wszystkich kategorii w tabelę całościową i wyliczenie wartości całkowitej (tj. ile jest restauracji z zakresem cen w danym stanie)"
   ]
  },
  {
   "cell_type": "code",
   "execution_count": null,
   "metadata": {},
   "outputs": [],
   "source": [
    "chm = cheapsy.merge(moderasy, how='outer', on ='state')\n",
    "exmch = chm.merge(expensy, how='outer', on ='state')\n",
    "all = exmch.merge(superesy, how='outer', on ='state')\n",
    "#usuniecie wartosci NaN\n",
    "all = all.fillna(0)\n",
    "all['total'] = all['cheap #'] + all['moderate #'] + all['expensive #'] + all['superexpensive #']\n",
    "all"
   ]
  },
  {
   "attachments": {},
   "cell_type": "markdown",
   "metadata": {},
   "source": [
    "Ile procentowo stanowią określone kategorie cenowe w konkretnych stanach?"
   ]
  },
  {
   "cell_type": "code",
   "execution_count": null,
   "metadata": {},
   "outputs": [],
   "source": [
    "all['cheap #'] = all['cheap #'] / all['total'] * 100\n",
    "all.rename(columns = {'cheap #': 'cheap %'}, inplace=True)\n",
    "all['moderate #'] = all['moderate #'] / all['total'] * 100\n",
    "all.rename(columns = {'moderate #': 'moderate %'}, inplace=True)\n",
    "all['expensive #'] = all['expensive #'] / all['total'] * 100\n",
    "all.rename(columns = {'expensive #': 'expensive %'}, inplace=True)\n",
    "all['superexpensive #'] = all['superexpensive #'] / all['total'] * 100\n",
    "all.rename(columns = {'superexpensive #': 'superexpensive %'}, inplace=True)"
   ]
  },
  {
   "cell_type": "code",
   "execution_count": 57,
   "metadata": {},
   "outputs": [
    {
     "data": {
      "text/html": [
       "<div>\n",
       "<style scoped>\n",
       "    .dataframe tbody tr th:only-of-type {\n",
       "        vertical-align: middle;\n",
       "    }\n",
       "\n",
       "    .dataframe tbody tr th {\n",
       "        vertical-align: top;\n",
       "    }\n",
       "\n",
       "    .dataframe thead th {\n",
       "        text-align: right;\n",
       "    }\n",
       "</style>\n",
       "<table border=\"1\" class=\"dataframe\">\n",
       "  <thead>\n",
       "    <tr style=\"text-align: right;\">\n",
       "      <th></th>\n",
       "      <th>state</th>\n",
       "      <th>cheap %</th>\n",
       "      <th>moderate %</th>\n",
       "      <th>expensive %</th>\n",
       "      <th>superexpensive %</th>\n",
       "      <th>total</th>\n",
       "    </tr>\n",
       "  </thead>\n",
       "  <tbody>\n",
       "    <tr>\n",
       "      <th>0</th>\n",
       "      <td></td>\n",
       "      <td>54.65</td>\n",
       "      <td>44.19</td>\n",
       "      <td>1.16</td>\n",
       "      <td>0.00</td>\n",
       "      <td>172.0</td>\n",
       "    </tr>\n",
       "    <tr>\n",
       "      <th>1</th>\n",
       "      <td>AL</td>\n",
       "      <td>67.76</td>\n",
       "      <td>31.61</td>\n",
       "      <td>0.63</td>\n",
       "      <td>0.00</td>\n",
       "      <td>949.0</td>\n",
       "    </tr>\n",
       "    <tr>\n",
       "      <th>2</th>\n",
       "      <td>DC</td>\n",
       "      <td>70.73</td>\n",
       "      <td>27.00</td>\n",
       "      <td>2.09</td>\n",
       "      <td>0.18</td>\n",
       "      <td>1100.0</td>\n",
       "    </tr>\n",
       "    <tr>\n",
       "      <th>3</th>\n",
       "      <td>ID</td>\n",
       "      <td>65.22</td>\n",
       "      <td>34.78</td>\n",
       "      <td>0.00</td>\n",
       "      <td>0.00</td>\n",
       "      <td>23.0</td>\n",
       "    </tr>\n",
       "    <tr>\n",
       "      <th>4</th>\n",
       "      <td>IL</td>\n",
       "      <td>76.63</td>\n",
       "      <td>23.37</td>\n",
       "      <td>0.00</td>\n",
       "      <td>0.00</td>\n",
       "      <td>184.0</td>\n",
       "    </tr>\n",
       "    <tr>\n",
       "      <th>5</th>\n",
       "      <td>MD</td>\n",
       "      <td>74.16</td>\n",
       "      <td>24.86</td>\n",
       "      <td>0.98</td>\n",
       "      <td>0.00</td>\n",
       "      <td>712.0</td>\n",
       "    </tr>\n",
       "    <tr>\n",
       "      <th>6</th>\n",
       "      <td>MN</td>\n",
       "      <td>58.97</td>\n",
       "      <td>41.03</td>\n",
       "      <td>0.00</td>\n",
       "      <td>0.00</td>\n",
       "      <td>39.0</td>\n",
       "    </tr>\n",
       "    <tr>\n",
       "      <th>7</th>\n",
       "      <td>OH</td>\n",
       "      <td>33.33</td>\n",
       "      <td>66.67</td>\n",
       "      <td>0.00</td>\n",
       "      <td>0.00</td>\n",
       "      <td>15.0</td>\n",
       "    </tr>\n",
       "    <tr>\n",
       "      <th>8</th>\n",
       "      <td>OR</td>\n",
       "      <td>82.34</td>\n",
       "      <td>17.23</td>\n",
       "      <td>0.42</td>\n",
       "      <td>0.00</td>\n",
       "      <td>708.0</td>\n",
       "    </tr>\n",
       "    <tr>\n",
       "      <th>9</th>\n",
       "      <td>PR</td>\n",
       "      <td>91.28</td>\n",
       "      <td>8.72</td>\n",
       "      <td>0.00</td>\n",
       "      <td>0.00</td>\n",
       "      <td>149.0</td>\n",
       "    </tr>\n",
       "    <tr>\n",
       "      <th>10</th>\n",
       "      <td>TN</td>\n",
       "      <td>76.92</td>\n",
       "      <td>23.08</td>\n",
       "      <td>0.00</td>\n",
       "      <td>0.00</td>\n",
       "      <td>39.0</td>\n",
       "    </tr>\n",
       "    <tr>\n",
       "      <th>11</th>\n",
       "      <td>TX</td>\n",
       "      <td>71.31</td>\n",
       "      <td>28.35</td>\n",
       "      <td>0.31</td>\n",
       "      <td>0.03</td>\n",
       "      <td>5821.0</td>\n",
       "    </tr>\n",
       "    <tr>\n",
       "      <th>12</th>\n",
       "      <td>UT</td>\n",
       "      <td>77.67</td>\n",
       "      <td>22.25</td>\n",
       "      <td>0.04</td>\n",
       "      <td>0.04</td>\n",
       "      <td>2557.0</td>\n",
       "    </tr>\n",
       "    <tr>\n",
       "      <th>13</th>\n",
       "      <td>VA</td>\n",
       "      <td>80.55</td>\n",
       "      <td>18.89</td>\n",
       "      <td>0.50</td>\n",
       "      <td>0.06</td>\n",
       "      <td>7983.0</td>\n",
       "    </tr>\n",
       "    <tr>\n",
       "      <th>14</th>\n",
       "      <td>VT</td>\n",
       "      <td>27.96</td>\n",
       "      <td>72.04</td>\n",
       "      <td>0.00</td>\n",
       "      <td>0.00</td>\n",
       "      <td>329.0</td>\n",
       "    </tr>\n",
       "    <tr>\n",
       "      <th>15</th>\n",
       "      <td>WA</td>\n",
       "      <td>77.58</td>\n",
       "      <td>21.76</td>\n",
       "      <td>0.56</td>\n",
       "      <td>0.10</td>\n",
       "      <td>7270.0</td>\n",
       "    </tr>\n",
       "    <tr>\n",
       "      <th>16</th>\n",
       "      <td>WI</td>\n",
       "      <td>57.58</td>\n",
       "      <td>42.24</td>\n",
       "      <td>0.15</td>\n",
       "      <td>0.03</td>\n",
       "      <td>3897.0</td>\n",
       "    </tr>\n",
       "    <tr>\n",
       "      <th>17</th>\n",
       "      <td>WV</td>\n",
       "      <td>54.59</td>\n",
       "      <td>45.26</td>\n",
       "      <td>0.15</td>\n",
       "      <td>0.00</td>\n",
       "      <td>1328.0</td>\n",
       "    </tr>\n",
       "    <tr>\n",
       "      <th>18</th>\n",
       "      <td>WY</td>\n",
       "      <td>46.08</td>\n",
       "      <td>53.92</td>\n",
       "      <td>0.00</td>\n",
       "      <td>0.00</td>\n",
       "      <td>306.0</td>\n",
       "    </tr>\n",
       "  </tbody>\n",
       "</table>\n",
       "</div>"
      ],
      "text/plain": [
       "   state  cheap %  moderate %  expensive %  superexpensive %   total\n",
       "0           54.65       44.19         1.16              0.00   172.0\n",
       "1     AL    67.76       31.61         0.63              0.00   949.0\n",
       "2     DC    70.73       27.00         2.09              0.18  1100.0\n",
       "3     ID    65.22       34.78         0.00              0.00    23.0\n",
       "4     IL    76.63       23.37         0.00              0.00   184.0\n",
       "5     MD    74.16       24.86         0.98              0.00   712.0\n",
       "6     MN    58.97       41.03         0.00              0.00    39.0\n",
       "7     OH    33.33       66.67         0.00              0.00    15.0\n",
       "8     OR    82.34       17.23         0.42              0.00   708.0\n",
       "9     PR    91.28        8.72         0.00              0.00   149.0\n",
       "10    TN    76.92       23.08         0.00              0.00    39.0\n",
       "11    TX    71.31       28.35         0.31              0.03  5821.0\n",
       "12    UT    77.67       22.25         0.04              0.04  2557.0\n",
       "13    VA    80.55       18.89         0.50              0.06  7983.0\n",
       "14    VT    27.96       72.04         0.00              0.00   329.0\n",
       "15    WA    77.58       21.76         0.56              0.10  7270.0\n",
       "16    WI    57.58       42.24         0.15              0.03  3897.0\n",
       "17    WV    54.59       45.26         0.15              0.00  1328.0\n",
       "18    WY    46.08       53.92         0.00              0.00   306.0"
      ]
     },
     "execution_count": 57,
     "metadata": {},
     "output_type": "execute_result"
    }
   ],
   "source": [
    "#zaokrąglenie do dwóch miejsc po przecinku\n",
    "all.round(2)"
   ]
  },
  {
   "attachments": {},
   "cell_type": "markdown",
   "metadata": {},
   "source": [
    "Co nam dają te informacje?  \n",
    "Mozna załozyc, ze otworzenie drogiej restauracji w stanie, w ktorym jest znaczna przewaga restauracji tanich   \n",
    "(np. VA: na prawie 8k restauracji ponad 80% stanowią tanie restauracje) nie miałoby większego sensu.  \n",
    "\n",
    "Lepszym pomysłem byłby stan, w którym mamy do czynienia z nizszym stosunkiem restauracji o niskim  \n",
    "zakresie cenowym i pojedyncze drogie restauracje: np. WI, WV, VT. \n",
    "Niestety rzuca się tu w oczy niedoskonałość naszych danych, tj. w niektórych stanach mamy tysiące restauracji, a w innych kilka/kilkadziesiąt.\n",
    "\n"
   ]
  }
 ],
 "metadata": {
  "kernelspec": {
   "display_name": "Python 3",
   "language": "python",
   "name": "python3"
  },
  "language_info": {
   "codemirror_mode": {
    "name": "ipython",
    "version": 3
   },
   "file_extension": ".py",
   "mimetype": "text/x-python",
   "name": "python",
   "nbconvert_exporter": "python",
   "pygments_lexer": "ipython3",
   "version": "3.9.13"
  },
  "orig_nbformat": 4
 },
 "nbformat": 4,
 "nbformat_minor": 2
}
